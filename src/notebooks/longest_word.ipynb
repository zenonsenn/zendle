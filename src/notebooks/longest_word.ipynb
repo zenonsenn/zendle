{
 "cells": [
  {
   "cell_type": "code",
   "execution_count": 64,
   "id": "a8295e14",
   "metadata": {},
   "outputs": [],
   "source": [
    "import pandas as pd\n",
    "import numpy as np\n",
    "from dotenv import load_dotenv\n",
    "load_dotenv()\n",
    "import os\n",
    "import re\n",
    "from pprint import pprint\n",
    "\n",
    "WORDLIST_LOCATION = os.getenv(\"WORDLIST_LOCATION\")"
   ]
  },
  {
   "cell_type": "code",
   "execution_count": 65,
   "id": "25bb080c",
   "metadata": {},
   "outputs": [],
   "source": [
    "letters_only = \"[a-z]\"\n",
    "\n",
    "wordlist = None\n",
    "with open(WORDLIST_LOCATION) as f:\n",
    "    wordlist = f.read()\n",
    "\n",
    "wordlist = wordlist.split('\\n')"
   ]
  },
  {
   "cell_type": "code",
   "execution_count": 66,
   "id": "45b1ab55",
   "metadata": {},
   "outputs": [
    {
     "name": "stdout",
     "output_type": "stream",
     "text": [
      "{'a': [28, 239503, 25417], 'b': [23, 155339, 18413], 'c': [29, 303414, 32108], 'd': [31, 174945, 18733], 'e': [27, 135433, 14197], 'f': [24, 101370, 11893], 'g': [23, 92884, 10953], 'h': [28, 132135, 13743], 'i': [25, 138272, 13199], 'y': [15, 7611, 1143], 'j': [18, 21555, 2840], 'k': [20, 29418, 3952], 'l': [22, 85033, 10002], 'm': [27, 185652, 19805], 'n': [22, 149792, 13459], 'o': [23, 125685, 12681], 'p': [25, 354009, 34860], 'q': [19, 16578, 1793], 'r': [25, 153034, 16783], 's': [25, 363463, 38764], 't': [29, 170673, 18819], 'u': [22, 243503, 22766], 'v': [20, 47077, 5329], 'w': [19, 52341, 6559], 'x': [16, 4593, 507], 'z': [22, 11388, 1387], '': [0, 0, 1]}\n"
     ]
    }
   ],
   "source": [
    "lengths = {}\n",
    "# {letter: [max_length, letter_count, word_count]}\n",
    "for word in wordlist:\n",
    "    current_letter = word[:1]\n",
    "    try:\n",
    "        current_max = lengths[current_letter][0]\n",
    "        lengths.update({word[:1]: [\n",
    "            lengths[current_letter][0], \n",
    "            (lengths[current_letter][1] + len(word)),\n",
    "            lengths[current_letter][2] + 1\n",
    "        ]})\n",
    "        if len(word) > current_max:\n",
    "            lengths.update({word[:1]: [\n",
    "                len(word), \n",
    "                lengths[current_letter][1],\n",
    "                lengths[current_letter][2]\n",
    "            ]})\n",
    "    except:\n",
    "        lengths.update({word[:1]: [\n",
    "            len(word), \n",
    "            len(word), \n",
    "            1\n",
    "        ]})\n",
    "\n",
    "print(lengths)"
   ]
  },
  {
   "cell_type": "code",
   "execution_count": 67,
   "id": "d8dadc16",
   "metadata": {},
   "outputs": [
    {
     "name": "stdout",
     "output_type": "stream",
     "text": [
      "370106\n",
      "370106\n"
     ]
    }
   ],
   "source": [
    "sum = 0\n",
    "for item in lengths:\n",
    "    sum += lengths[item][2]\n",
    "\n",
    "print(sum)\n",
    "print(len(wordlist))"
   ]
  },
  {
   "cell_type": "code",
   "execution_count": 70,
   "id": "eedf4a1f",
   "metadata": {},
   "outputs": [
    {
     "name": "stdout",
     "output_type": "stream",
     "text": [
      "{'a': 9, 'b': 8, 'c': 9, 'd': 9, 'e': 9, 'f': 8, 'g': 8, 'h': 9, 'i': 10, 'y': 6, 'j': 7, 'k': 7, 'l': 8, 'm': 9, 'n': 11, 'o': 9, 'p': 10, 'q': 9, 'r': 9, 's': 9, 't': 9, 'u': 10, 'v': 8, 'w': 7, 'x': 9, 'z': 8, '': 0}\n"
     ]
    }
   ],
   "source": [
    "avg_letters = {}\n",
    "for item in lengths:\n",
    "    avg_letters.update({item: int(lengths[item][1] / lengths[item][2])})\n",
    "\n",
    "print(avg_letters)"
   ]
  }
 ],
 "metadata": {
  "kernelspec": {
   "display_name": "Python 3",
   "language": "python",
   "name": "python3"
  },
  "language_info": {
   "codemirror_mode": {
    "name": "ipython",
    "version": 3
   },
   "file_extension": ".py",
   "mimetype": "text/x-python",
   "name": "python",
   "nbconvert_exporter": "python",
   "pygments_lexer": "ipython3",
   "version": "3.12.8"
  }
 },
 "nbformat": 4,
 "nbformat_minor": 5
}
